{
 "cells": [
  {
   "cell_type": "code",
   "execution_count": 6,
   "metadata": {},
   "outputs": [
    {
     "name": "stdout",
     "output_type": "stream",
     "text": [
      "  grain_ID grain_R grain volume   b/a            a            b            c\n",
      "0     1,00    6,20  997,6594824  0,36  12,27138311  4,405549703  4,405549703\n",
      "1     2,00    8,20  2309,614024  0,22  22,80912663  4,916670125  4,916670125\n",
      "2     3,00    4,38  352,7258928  0,66  5,755990254  3,824849411  3,824849411\n",
      "3     4,00    5,37   647,998842  0,47  8,936577451  4,160611819  4,160611819\n",
      "4     5,00    6,50  1149,595494  0,32  14,01545084  4,425116263  4,425116263\n"
     ]
    }
   ],
   "source": [
    "import pandas as pd\n",
    "df = pd.read_csv('RVE_input_ellipsoid.csv', delimiter=';')\n",
    "print(df.head())\n",
    "# Remove all columns except column named a, b and c\n",
    "df = df[['a', 'b', 'c']]\n",
    "# Save the filtered data to a new csv file as floats for the column. \n",
    "# COnverting all decimal as , to .\n",
    "df['a'] = df['a'].str.replace(',', '.').astype(float)\n",
    "df['b'] = df['b'].str.replace(',', '.').astype(float)\n",
    "df['c'] = df['c'].str.replace(',', '.').astype(float)\n",
    "df.to_csv('RVE_input_ellipsoid_filtered.csv', index=False)"
   ]
  }
 ],
 "metadata": {
  "kernelspec": {
   "display_name": "venv",
   "language": "python",
   "name": "python3"
  },
  "language_info": {
   "codemirror_mode": {
    "name": "ipython",
    "version": 3
   },
   "file_extension": ".py",
   "mimetype": "text/x-python",
   "name": "python",
   "nbconvert_exporter": "python",
   "pygments_lexer": "ipython3",
   "version": "3.11.3"
  },
  "orig_nbformat": 4
 },
 "nbformat": 4,
 "nbformat_minor": 2
}
